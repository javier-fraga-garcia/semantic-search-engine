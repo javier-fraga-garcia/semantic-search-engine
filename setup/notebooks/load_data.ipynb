{
 "cells": [
  {
   "cell_type": "code",
   "execution_count": null,
   "id": "a22fb506",
   "metadata": {},
   "outputs": [],
   "source": [
    "import pandas as pd"
   ]
  },
  {
   "cell_type": "code",
   "execution_count": null,
   "id": "6daddc00",
   "metadata": {},
   "outputs": [],
   "source": [
    "df = pd.read_parquet(\"../data/video-games-db-processed.parquet\", engine=\"fastparquet\")\n",
    "df.shape"
   ]
  },
  {
   "cell_type": "code",
   "execution_count": null,
   "id": "e0b7ad84",
   "metadata": {},
   "outputs": [],
   "source": [
    "df.dtypes"
   ]
  },
  {
   "cell_type": "code",
   "execution_count": null,
   "id": "cfb710fd",
   "metadata": {},
   "outputs": [],
   "source": [
    "df.head()"
   ]
  },
  {
   "cell_type": "code",
   "execution_count": null,
   "id": "116d1d80",
   "metadata": {},
   "outputs": [],
   "source": [
    "import requests"
   ]
  },
  {
   "cell_type": "code",
   "execution_count": null,
   "id": "7bdec473",
   "metadata": {},
   "outputs": [],
   "source": [
    "res = requests.get(\"http://localhost:9200\")\n",
    "if res.status_code == 200:\n",
    "    print(\"Elasticsearch is up and running!\")"
   ]
  },
  {
   "cell_type": "code",
   "execution_count": null,
   "id": "7d225877",
   "metadata": {},
   "outputs": [],
   "source": [
    "df.dtypes"
   ]
  },
  {
   "cell_type": "code",
   "execution_count": null,
   "id": "dc352aab",
   "metadata": {},
   "outputs": [],
   "source": [
    "mapping = {\n",
    "    \"mappings\": {\n",
    "        \"properties\": {\n",
    "            \"id\": {\"type\": \"integer\"},\n",
    "            \"name\": {\"type\": \"text\"},\n",
    "            \"released\": {\"type\": \"date\", \"format\": \"yyyy-MM-dd\"},\n",
    "            \"rating\": {\"type\": \"float\"},\n",
    "            \"description\": {\"type\": \"text\"},\n",
    "            \"playtime\": {\"type\": \"integer\"},\n",
    "            \"genres\": {\"type\": \"keyword\"},\n",
    "            \"publisher\": {\"type\": \"keyword\"},\n",
    "            \"image\": {\"type\": \"keyword\"},\n",
    "            \"embedding\": {\n",
    "                \"type\": \"dense_vector\",\n",
    "                \"dims\": 384,\n",
    "                \"index\": True,\n",
    "                \"similarity\": \"cosine\",\n",
    "            },\n",
    "        }\n",
    "    }\n",
    "}"
   ]
  },
  {
   "cell_type": "code",
   "execution_count": null,
   "id": "866fafea",
   "metadata": {},
   "outputs": [],
   "source": [
    "db_url = \"http://localhost:9200\"\n",
    "index_name = \"video_games\""
   ]
  },
  {
   "cell_type": "code",
   "execution_count": null,
   "id": "80e4445e",
   "metadata": {},
   "outputs": [],
   "source": [
    "# Crear el index\n",
    "res = requests.put(f\"{db_url}/{index_name}\", json=mapping)\n",
    "res.raise_for_status()\n",
    "res.json()"
   ]
  },
  {
   "cell_type": "code",
   "execution_count": null,
   "id": "a436648b",
   "metadata": {},
   "outputs": [],
   "source": [
    "# Subir registros a la db\n",
    "for _, row in df.iterrows():\n",
    "    doc = {\n",
    "        \"id\": row[\"id\"],\n",
    "        \"name\": row[\"name\"],\n",
    "        \"released\": row[\"released\"],\n",
    "        \"rating\": row[\"rating\"],\n",
    "        \"description\": row[\"description\"],\n",
    "        \"playtime\": row[\"playtime\"],\n",
    "        \"genres\": row[\"genres\"],\n",
    "        \"publisher\": row[\"publisher\"],\n",
    "        \"image\": row[\"image\"],\n",
    "        \"embedding\": row[\"embedding\"],\n",
    "    }\n",
    "    res = requests.post(f\"{db_url}/{index_name}/_doc\", json=doc)\n",
    "    res.raise_for_status()\n",
    "    print(res.json())"
   ]
  },
  {
   "cell_type": "code",
   "execution_count": null,
   "id": "395664df",
   "metadata": {},
   "outputs": [],
   "source": [
    "res = requests.get(\n",
    "    f\"{db_url}/{index_name}/_search\", json={\"query\": {\"term\": {\"id\": 3498}}}\n",
    ")\n",
    "res.raise_for_status()\n",
    "res.json()"
   ]
  },
  {
   "cell_type": "code",
   "execution_count": null,
   "id": "83768eea",
   "metadata": {},
   "outputs": [],
   "source": [
    "# Probamos búsqueda vectorial\n",
    "query_embedding = df.iloc[1, -1]\n",
    "query = {\n",
    "    \"size\": 10,\n",
    "    \"query\": {\n",
    "        \"knn\": {\n",
    "            \"field\": \"embedding\",\n",
    "            \"query_vector\": query_embedding,\n",
    "            \"k\": 10,\n",
    "            \"num_candidates\": 100,\n",
    "        }\n",
    "    },\n",
    "}\n",
    "res = requests.get(f\"{db_url}/{index_name}/_search\", json=query)\n",
    "res.raise_for_status()\n",
    "data = res.json()"
   ]
  },
  {
   "cell_type": "code",
   "execution_count": null,
   "id": "019d3901",
   "metadata": {},
   "outputs": [],
   "source": [
    "[row[\"_source\"].get(\"name\") for row in data[\"hits\"][\"hits\"]]"
   ]
  }
 ],
 "metadata": {
  "kernelspec": {
   "display_name": ".venv",
   "language": "python",
   "name": "python3"
  },
  "language_info": {
   "codemirror_mode": {
    "name": "ipython",
    "version": 3
   },
   "file_extension": ".py",
   "mimetype": "text/x-python",
   "name": "python",
   "nbconvert_exporter": "python",
   "pygments_lexer": "ipython3",
   "version": "3.10.0"
  }
 },
 "nbformat": 4,
 "nbformat_minor": 5
}
