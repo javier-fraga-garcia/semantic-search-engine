{
 "cells": [
  {
   "cell_type": "markdown",
   "metadata": {
    "id": "BZVWoBp_2lKI"
   },
   "source": [
    "# VideoGames API\n",
    "---"
   ]
  },
  {
   "cell_type": "markdown",
   "metadata": {
    "id": "Z_WVyLb42qKh"
   },
   "source": [
    "## Obtención de los datos"
   ]
  },
  {
   "cell_type": "code",
   "execution_count": null,
   "metadata": {
    "id": "vYqy-_LH-4sp"
   },
   "outputs": [],
   "source": [
    "import os\n",
    "import requests\n",
    "import pandas as pd\n",
    "\n",
    "RAWG_API_KEY = os.getenv(\"RAWG_API_KEY\")"
   ]
  },
  {
   "cell_type": "code",
   "execution_count": null,
   "metadata": {
    "id": "FCYRjUCl_JfB"
   },
   "outputs": [],
   "source": [
    "ENDPOINT = \"https://api.rawg.io/api\""
   ]
  },
  {
   "cell_type": "code",
   "execution_count": null,
   "metadata": {
    "id": "DUt8p2c-_iyp"
   },
   "outputs": [],
   "source": [
    "try:\n",
    "    params = {\"key\": RAWG_API_KEY, \"page_size\": 40}\n",
    "    res = requests.get(f\"{ENDPOINT}/games\", params=params)\n",
    "    res.raise_for_status()\n",
    "except Exception as e:\n",
    "    print(e)"
   ]
  },
  {
   "cell_type": "code",
   "execution_count": null,
   "metadata": {
    "id": "AowFwOPpAahp"
   },
   "outputs": [],
   "source": [
    "data = res.json()"
   ]
  },
  {
   "cell_type": "code",
   "execution_count": null,
   "metadata": {
    "colab": {
     "base_uri": "https://localhost:8080/"
    },
    "id": "n1NcOBmwAfP6",
    "outputId": "71c4c548-e77f-4bc4-ed96-6108c1e37653"
   },
   "outputs": [],
   "source": [
    "len(data[\"results\"])"
   ]
  },
  {
   "cell_type": "code",
   "execution_count": null,
   "metadata": {
    "colab": {
     "base_uri": "https://localhost:8080/",
     "height": 35
    },
    "id": "mvTnDPRLAhsa",
    "outputId": "01f6c676-0ed8-43f4-a87c-98384ff2928f"
   },
   "outputs": [],
   "source": [
    "data[\"next\"]"
   ]
  },
  {
   "cell_type": "code",
   "execution_count": null,
   "metadata": {
    "colab": {
     "base_uri": "https://localhost:8080/"
    },
    "id": "79t44QK0A4KY",
    "outputId": "61a0ca88-0370-4f6c-f72c-b351a7396b76"
   },
   "outputs": [],
   "source": [
    "id = data[\"results\"][0].get(\"id\")\n",
    "id"
   ]
  },
  {
   "cell_type": "code",
   "execution_count": null,
   "metadata": {
    "id": "7OP4_hyaBA9p"
   },
   "outputs": [],
   "source": [
    "try:\n",
    "    params = {\"key\": RAWG_API_KEY, \"page_size\": 40}\n",
    "    res = requests.get(f\"{ENDPOINT}/games/{id}\", params=params)\n",
    "    res.raise_for_status()\n",
    "except Exception as e:\n",
    "    print(e)"
   ]
  },
  {
   "cell_type": "code",
   "execution_count": null,
   "metadata": {
    "id": "vCnNnBv-BNji"
   },
   "outputs": [],
   "source": [
    "from dataclasses import dataclass, asdict"
   ]
  },
  {
   "cell_type": "code",
   "execution_count": null,
   "metadata": {
    "id": "TgQaX99zBgGM"
   },
   "outputs": [],
   "source": [
    "@dataclass\n",
    "class Game:\n",
    "    id: int\n",
    "    name: str\n",
    "    released: str\n",
    "    rating: float\n",
    "    description: str\n",
    "    playtime: float\n",
    "    genres: str\n",
    "    publisher: str\n",
    "    image: str"
   ]
  },
  {
   "cell_type": "code",
   "execution_count": null,
   "metadata": {
    "id": "_FxtdI3NCQm9"
   },
   "outputs": [],
   "source": [
    "def get_game_data(res) -> Game:\n",
    "    data = res.json()\n",
    "    id = data.get(\"id\")\n",
    "    name = data.get(\"name\")\n",
    "    description = data.get(\"description_raw\")\n",
    "    released = data.get(\"released\")\n",
    "    rating = data.get(\"rating\")\n",
    "    playtime = data.get(\"playtime\")\n",
    "    genres = \",\".join([genre.get(\"name\") for genre in data.get(\"genres\")])\n",
    "    publishers = data.get(\"publishers\")\n",
    "    if publishers and len(publishers) > 0:\n",
    "        publisher = publishers[0].get(\"name\")\n",
    "    else:\n",
    "        publisher = \"no publisher detected\"\n",
    "    image = data.get(\"background_image\", \"no image\")\n",
    "    return Game(\n",
    "        id, name, released, rating, description, playtime, genres, publisher, image\n",
    "    )"
   ]
  },
  {
   "cell_type": "code",
   "execution_count": null,
   "metadata": {
    "colab": {
     "base_uri": "https://localhost:8080/"
    },
    "id": "fu-CFL-3DLA5",
    "outputId": "615d203a-66c7-4e47-dc84-500fea8a02b7"
   },
   "outputs": [],
   "source": [
    "games = []\n",
    "for i in range(1, 21):\n",
    "    print(f\"Getting data for page ${i}\")\n",
    "    try:\n",
    "        params = {\"key\": RAWG_API_KEY, \"page_size\": 40, \"page\": i}\n",
    "        res = requests.get(f\"{ENDPOINT}/games\", params=params)\n",
    "        res.raise_for_status()\n",
    "        ids = [game.get(\"id\") for game in res.json()[\"results\"]]\n",
    "        for id in ids:\n",
    "            res = requests.get(f\"{ENDPOINT}/games/{id}\", params={\"key\": RAWG_API_KEY})\n",
    "            res.raise_for_status()\n",
    "            games.append(get_game_data(res))\n",
    "\n",
    "    except Exception as e:\n",
    "        print(e)"
   ]
  },
  {
   "cell_type": "code",
   "execution_count": null,
   "metadata": {
    "id": "y7xGCmfiGXd3"
   },
   "outputs": [],
   "source": [
    "df = pd.DataFrame([asdict(game) for game in games])"
   ]
  },
  {
   "cell_type": "code",
   "execution_count": null,
   "metadata": {
    "colab": {
     "base_uri": "https://localhost:8080/"
    },
    "id": "_UDUdGo7Gb6x",
    "outputId": "0535ca39-7098-4a8a-c19e-33ce0138eec6"
   },
   "outputs": [],
   "source": [
    "df.shape"
   ]
  },
  {
   "cell_type": "code",
   "execution_count": null,
   "metadata": {
    "colab": {
     "base_uri": "https://localhost:8080/",
     "height": 206
    },
    "id": "ohv-5DDbGcxP",
    "outputId": "e07f7422-5619-4f69-becb-cde245e2e93f"
   },
   "outputs": [],
   "source": [
    "df.head()"
   ]
  },
  {
   "cell_type": "code",
   "execution_count": null,
   "metadata": {
    "id": "JD-wGnnTGdyS"
   },
   "outputs": [],
   "source": [
    "df.to_csv(\"video-games-db.csv\", index=False, encoding=\"utf-8\")"
   ]
  },
  {
   "cell_type": "markdown",
   "metadata": {
    "id": "TffphoEfI-Nf"
   },
   "source": [
    "## Procesado y obtención de embeddings"
   ]
  },
  {
   "cell_type": "code",
   "execution_count": null,
   "metadata": {
    "id": "2EHgGaJW2yIc"
   },
   "outputs": [],
   "source": [
    "import pandas as pd"
   ]
  },
  {
   "cell_type": "code",
   "execution_count": null,
   "metadata": {
    "colab": {
     "base_uri": "https://localhost:8080/",
     "height": 206
    },
    "id": "JM86vM0P21Be",
    "outputId": "fab7b0c5-bb76-4518-a6f0-7dd9156e368a"
   },
   "outputs": [],
   "source": [
    "df = pd.read_csv(\"/content/video-games-db.csv\", encoding=\"utf-8\")\n",
    "df.head()"
   ]
  },
  {
   "cell_type": "code",
   "execution_count": null,
   "metadata": {
    "id": "-J8AKXY_3ZFY"
   },
   "outputs": [],
   "source": [
    "for col in df.select_dtypes(\"object\").columns:\n",
    "    df[col] = df[col].str.lower()\n",
    "    df[col] = df[col].str.replace(r\"\\(.*\\)\", \"\", regex=True)"
   ]
  },
  {
   "cell_type": "code",
   "execution_count": null,
   "metadata": {
    "colab": {
     "base_uri": "https://localhost:8080/",
     "height": 206
    },
    "id": "IBPs6qOz3oNg",
    "outputId": "1a17bb9b-93b2-4f1f-ead5-9746765ec5fc"
   },
   "outputs": [],
   "source": [
    "df.head()"
   ]
  },
  {
   "cell_type": "code",
   "execution_count": null,
   "metadata": {
    "id": "u3xnSKZS5UXM"
   },
   "outputs": [],
   "source": [
    "df[\"genres\"] = df[\"genres\"].str.split(\",\")"
   ]
  },
  {
   "cell_type": "code",
   "execution_count": null,
   "metadata": {
    "colab": {
     "base_uri": "https://localhost:8080/",
     "height": 206
    },
    "id": "iQZl7wPD5YDy",
    "outputId": "43b032f9-46a6-4c1a-db0a-f8ff91dcbe0f"
   },
   "outputs": [],
   "source": [
    "df.head()"
   ]
  },
  {
   "cell_type": "code",
   "execution_count": null,
   "metadata": {
    "colab": {
     "base_uri": "https://localhost:8080/"
    },
    "id": "nlNkemly5cE5",
    "outputId": "d98d7ff0-dd6f-4cd5-db06-fccc4b8201d4"
   },
   "outputs": [],
   "source": [
    "df[\"released\"].min(), df[\"released\"].max()"
   ]
  },
  {
   "cell_type": "markdown",
   "metadata": {
    "id": "f1qUZZEL5srr"
   },
   "source": [
    "### Embeddings"
   ]
  },
  {
   "cell_type": "code",
   "execution_count": null,
   "metadata": {
    "id": "SFlTTrfB5yvk"
   },
   "outputs": [],
   "source": [
    "from sentence_transformers import SentenceTransformer"
   ]
  },
  {
   "cell_type": "code",
   "execution_count": null,
   "metadata": {
    "id": "Gi59OeRT6I41"
   },
   "outputs": [],
   "source": [
    "model = SentenceTransformer(\"all-MiniLM-L6-v2\")  # Descargamos el modelo de embeddings"
   ]
  },
  {
   "cell_type": "code",
   "execution_count": null,
   "metadata": {
    "id": "-fWl1Wp96fWY"
   },
   "outputs": [],
   "source": [
    "embedding = model.encode(\"Texto de prueba\", convert_to_numpy=True)"
   ]
  },
  {
   "cell_type": "code",
   "execution_count": null,
   "metadata": {
    "colab": {
     "base_uri": "https://localhost:8080/"
    },
    "id": "9Hsn7C7V6vrU",
    "outputId": "0b74e410-1eaa-4db1-db95-1b43a3ea1eee"
   },
   "outputs": [],
   "source": [
    "embedding.shape"
   ]
  },
  {
   "cell_type": "code",
   "execution_count": null,
   "metadata": {
    "id": "q9FDt3076w7t"
   },
   "outputs": [],
   "source": [
    "df_embed = df.copy()"
   ]
  },
  {
   "cell_type": "code",
   "execution_count": null,
   "metadata": {
    "id": "Ifu5Dinm66Rl"
   },
   "outputs": [],
   "source": [
    "texts = df_embed[\"description\"].to_list()"
   ]
  },
  {
   "cell_type": "code",
   "execution_count": null,
   "metadata": {
    "id": "CiaNv8d47ID4"
   },
   "outputs": [],
   "source": [
    "embeddings = model.encode(texts, convert_to_numpy=True)"
   ]
  },
  {
   "cell_type": "code",
   "execution_count": null,
   "metadata": {
    "colab": {
     "base_uri": "https://localhost:8080/"
    },
    "id": "TTdqvd3e7zjI",
    "outputId": "1f6e6450-a68e-424c-87ab-beb910172088"
   },
   "outputs": [],
   "source": [
    "embeddings.shape"
   ]
  },
  {
   "cell_type": "code",
   "execution_count": null,
   "metadata": {
    "id": "xeNnac9872Fp"
   },
   "outputs": [],
   "source": [
    "df_embed[\"embedding\"] = embeddings.tolist()"
   ]
  },
  {
   "cell_type": "code",
   "execution_count": null,
   "metadata": {
    "colab": {
     "base_uri": "https://localhost:8080/",
     "height": 293
    },
    "id": "ULNpszyc7_Em",
    "outputId": "2476ae4a-4a34-4bfb-d598-a1c06a5cabd4"
   },
   "outputs": [],
   "source": [
    "df_embed.head()"
   ]
  },
  {
   "cell_type": "code",
   "execution_count": null,
   "metadata": {
    "id": "bFNoSsWz7__3"
   },
   "outputs": [],
   "source": [
    "df_embed.to_parquet(\"video-games-db-processed.parquet\", index=False)"
   ]
  }
 ],
 "metadata": {
  "accelerator": "GPU",
  "colab": {
   "collapsed_sections": [
    "Z_WVyLb42qKh"
   ],
   "gpuType": "T4",
   "provenance": []
  },
  "kernelspec": {
   "display_name": "Python 3",
   "name": "python3"
  },
  "language_info": {
   "name": "python"
  }
 },
 "nbformat": 4,
 "nbformat_minor": 0
}
